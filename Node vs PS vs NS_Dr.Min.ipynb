{
 "cells": [
  {
   "cell_type": "code",
   "execution_count": 1,
   "metadata": {},
   "outputs": [],
   "source": [
    "import gambit"
   ]
  },
  {
   "cell_type": "code",
   "execution_count": 2,
   "metadata": {},
   "outputs": [],
   "source": [
    "g=gambit.Game.new_table([2,2,2]) #length in the arg is presenting total number of players in the game and integer \n",
    "                              #in the list presenting the strategies\n",
    "g.players[0].label='Node'\n",
    "g.players[0].strategies[0].label='Honest_N'\n",
    "g.players[0].strategies[1].label='Dishonest_N'\n",
    "g.players[1].label='Positive_Selectors'\n",
    "g.players[1].strategies[0].label='Honest_PS'\n",
    "g.players[1].strategies[1].label='Dishonest_PS'\n",
    "g.players[2].label='Negative_Selectors'\n",
    "g.players[2].strategies[0].label='Honest_NS'\n",
    "g.players[2].strategies[1].label='Dishonest_NS'"
   ]
  },
  {
   "cell_type": "markdown",
   "metadata": {},
   "source": [
    "- Let's assume that a node's balance is 100, a warehouse's balance is 10000.\n",
    "- Assuming the normal(honest) payoff to be 5, 500, 500 for N, PS, NS and the dishonest payoff (or penalty) to be -100 (or -inf), -10000 (or -inf), -10000 (or -inf) for N, PS, NS as well as the forfeited balance being redistributed among honest N, PS,"
   ]
  },
  {
   "cell_type": "markdown",
   "metadata": {},
   "source": [
    "# When there is at least one warehouse"
   ]
  },
  {
   "cell_type": "raw",
   "metadata": {},
   "source": [
    "Payoff: For the case when there is at least one warehouse\n",
    "g[0, 0, 0] = [5, 500, 500]\n",
    "g[0, 0, 1] = [5, 500, -10000]\t// the forfeited balance of this dishonest NS may be redistributed later to the honest warehouse (and the honest node).\n",
    "g[0, 1, 0] = [5 + 10000 / 2, -10000, 500 + 10000 / 2]\t// the redistribution of the forfeited balance may not be the entire amount as seen on left.\n",
    "g[0, 1, 1] = [5, -10000, -10000]\t// Node will get the reward later by the honest warehouse.\n",
    "g[1, 0, 0] = [-100, 500, 500 + 100]\t// Or NS may get a portion of the forfeited balance of the dishonest node.\n",
    "g[1, 0, 1] = [-100, 500, -10000]\n",
    "g[1, 1, 0] = [-100, -10000, 500 + (100 + 10000)]\t// Or portion of the forfeited balance.\n",
    "g[1, 1, 1] = [-100, -10000, -10000]\t// Done later by the honest warehouse (and the honest node)."
   ]
  },
  {
   "cell_type": "code",
   "execution_count": 3,
   "metadata": {},
   "outputs": [],
   "source": [
    "g[0,0,0][0],g[0,0,0][1],g[0,0,0][2]=5,500,500\n",
    "g[0,0,1][0],g[0,0,1][1],g[0,0,1][2]=5,500,-10000\n",
    "g[0,1,0][0],g[0,1,0][1],g[0,1,0][2]=(5+1000)/2,-10000,(5+1000)/2 # Node's payoff ratio could be different from\n",
    "                                                                 # Positive selector and Negative Selector\n",
    "g[0,1,1][0],g[0,1,1][1],g[0,1,1][2]=5,-10000,-10000\n",
    "g[1,0,0][0],g[1,0,0][1],g[1,0,0][2]=-100,500,500+100\n",
    "g[1,0,1][0],g[1,0,1][1],g[1,0,1][2]=-100, 500, -10000\n",
    "g[1,1,0][0],g[1,1,0][1],g[1,1,0][2]=-100, -10000, 500 + (100 + 10000)\n",
    "g[1,1,1][0],g[1,1,1][1],g[1,1,1][2]=-100, -10000, -10000"
   ]
  },
  {
   "cell_type": "code",
   "execution_count": 4,
   "metadata": {},
   "outputs": [
    {
     "data": {
      "text/plain": [
       "NFG 1 R \"\" { \"Node\" \"Positive_Selectors\" \"Negative_Selectors\" }\n",
       "\n",
       "{ { \"Honest_N\" \"Dishonest_N\" }\n",
       "{ \"Honest_PS\" \"Dishonest_PS\" }\n",
       "{ \"Honest_NS\" \"Dishonest_NS\" }\n",
       "}\n",
       "\"\"\n",
       "\n",
       "{\n",
       "{ \"\" 5, 500, 500 }\n",
       "{ \"\" -100, 500, 600 }\n",
       "{ \"\" 502, -10000, 502 }\n",
       "{ \"\" -100, -10000, 10600 }\n",
       "{ \"\" 5, 500, -10000 }\n",
       "{ \"\" -100, 500, -10000 }\n",
       "{ \"\" 5, -10000, -10000 }\n",
       "{ \"\" -100, -10000, -10000 }\n",
       "}\n",
       "1 2 3 4 5 6 7 8 "
      ]
     },
     "execution_count": 4,
     "metadata": {},
     "output_type": "execute_result"
    }
   ],
   "source": [
    "g"
   ]
  },
  {
   "cell_type": "markdown",
   "metadata": {},
   "source": [
    "# Expected Payoff"
   ]
  },
  {
   "cell_type": "code",
   "execution_count": 5,
   "metadata": {},
   "outputs": [],
   "source": [
    "p = g.mixed_strategy_profile()"
   ]
  },
  {
   "cell_type": "code",
   "execution_count": 6,
   "metadata": {},
   "outputs": [
    {
     "data": {
      "text/plain": [
       "([0.5, 0.5], [0.5, 0.5], [0.5, 0.5])"
      ]
     },
     "execution_count": 6,
     "metadata": {},
     "output_type": "execute_result"
    }
   ],
   "source": [
    "p[g.players[0]],p[g.players[1]],p[g.players[2]]"
   ]
  },
  {
   "cell_type": "markdown",
   "metadata": {},
   "source": [
    "# Nash Equilibrium"
   ]
  },
  {
   "cell_type": "code",
   "execution_count": 7,
   "metadata": {},
   "outputs": [],
   "source": [
    "solver = gambit.nash.ExternalEnumPureSolver()"
   ]
  },
  {
   "cell_type": "code",
   "execution_count": 8,
   "metadata": {},
   "outputs": [
    {
     "data": {
      "text/plain": [
       "[<NashProfile for '': [[Fraction(1, 1), Fraction(0, 1)], [Fraction(1, 1), Fraction(0, 1)], [Fraction(1, 1), Fraction(0, 1)]]>]"
      ]
     },
     "execution_count": 8,
     "metadata": {},
     "output_type": "execute_result"
    }
   ],
   "source": [
    "solver.solve(g)"
   ]
  },
  {
   "cell_type": "code",
   "execution_count": 9,
   "metadata": {},
   "outputs": [],
   "source": [
    "solver2 = gambit.nash.ExternalLogitSolver()"
   ]
  },
  {
   "cell_type": "code",
   "execution_count": 10,
   "metadata": {},
   "outputs": [
    {
     "data": {
      "text/plain": [
       "[<NashProfile for '': [[1.0, 0.0], [1.0, 0.0], [1.0, 0.0]]>]"
      ]
     },
     "execution_count": 10,
     "metadata": {},
     "output_type": "execute_result"
    }
   ],
   "source": [
    "solver2.solve(g)"
   ]
  },
  {
   "cell_type": "code",
   "execution_count": 11,
   "metadata": {},
   "outputs": [
    {
     "data": {
      "text/plain": [
       "[[[Fraction(1, 1), Fraction(0, 1)], [Fraction(1, 1), Fraction(0, 1)], [Fraction(1, 1), Fraction(0, 1)]]]"
      ]
     },
     "execution_count": 11,
     "metadata": {},
     "output_type": "execute_result"
    }
   ],
   "source": [
    "gambit.nash.simpdiv_solve(g)"
   ]
  },
  {
   "cell_type": "code",
   "execution_count": 12,
   "metadata": {},
   "outputs": [
    {
     "data": {
      "text/plain": [
       "[[[1.0, 0.0], [1.0, 0.0], [1.0, 0.0]]]"
      ]
     },
     "execution_count": 12,
     "metadata": {},
     "output_type": "execute_result"
    }
   ],
   "source": [
    "gambit.nash.ipa_solve(g)"
   ]
  },
  {
   "cell_type": "code",
   "execution_count": 13,
   "metadata": {},
   "outputs": [
    {
     "data": {
      "text/plain": [
       "[[[1.0, 0.0], [1.0, 0.0], [1.0, 0.0]]]"
      ]
     },
     "execution_count": 13,
     "metadata": {},
     "output_type": "execute_result"
    }
   ],
   "source": [
    "gambit.nash.gnm_solve(g)"
   ]
  },
  {
   "cell_type": "markdown",
   "metadata": {},
   "source": [
    "# When there is no honest warehouse present"
   ]
  },
  {
   "cell_type": "raw",
   "metadata": {},
   "source": [
    "g1 must be for the case when there is no honest warehouse except the current selectors (which may be dishonest of course).\n",
    "g1[0, 0, 1] = [0, -10000, 500 + 10000 / x]\t// x = # of warehouses (they must colluding, so the forfeited balance must be distributed among them. One thing to note here is that the honest warehouse is gone, so there is no honest warehouse left in the system which leads to the situation that g1[0, 0, 1] is not a feasable condition.\n",
    "g1[0, 1, 1] = [0, 500, 500]\n",
    "g1[1, 0, 1] = [5, -10000, 500 + 10000 / (x + 1)]\t// Similar to g1[0, 0, 1], the forfeited balance of the honest warehouse must be distributed among the wareshouses and the dishonest node. Again there will be no more honest warehouse in the system.\n",
    "g1[1, 1, 1] = [-100, 500, 500 + 100 / x]\t// One dishonest (colluding) node will be forfeited and removed from the system.\n",
    "\n",
    "In case of no additional warehouses, the system will shrink down by removing the honest warehouse or a dishonest node every time, eventually leaving only dishonest warehouses and honest nodes who can't earn any payoff and hence leaves the system. In other words, this equilibrium will lead to the collapse of the system which is essentially a big minus for the dishonest warehouses/nodes."
   ]
  },
  {
   "cell_type": "code",
   "execution_count": 14,
   "metadata": {},
   "outputs": [],
   "source": [
    "g1=g"
   ]
  },
  {
   "cell_type": "markdown",
   "metadata": {},
   "source": [
    "# When ratio of payoff between node and warehouse is 100 and maximum colluding node is 23"
   ]
  },
  {
   "cell_type": "code",
   "execution_count": 69,
   "metadata": {
    "scrolled": true
   },
   "outputs": [
    {
     "name": "stdout",
     "output_type": "stream",
     "text": [
      "[0.00042087541654167726, 0.0006662225114603681, 0.0009402914806772023, 0.001248439437827653, 0.001597444073006049, 0.0019960079634759875, 0.0024570024316989403, 0.0029940119452109837, 0.003623188368484742, 0.004385964867106906, 0.005305039733165262, 0.006472491842707262, 0.007936507854766295, 0.009900989997057352, 0.012658227717756376, 0.016806722515974815, 0.023529411522417665, 0.03703703665565711, 0.07407407331114335, 0.9999999897004337, 1.0]\n",
      "[0.9995791245834584, 0.9993337774885397, 0.9990597085193227, 0.9987515605621723, 0.998402555926994, 0.998003992036524, 0.997542997568301, 0.997005988054789, 0.9963768116315153, 0.995614035132893, 0.9946949602668348, 0.9935275081572927, 0.9920634921452337, 0.9900990100029426, 0.9873417722822436, 0.9831932774840252, 0.9764705884775824, 0.962962963344343, 0.9259259266888566, 1.0299566255422832e-08, 0.0]\n",
      "[2, 3, 4, 5, 6, 7, 8, 9, 10, 11, 12, 13, 14, 15, 16, 17, 18, 19, 20, 21, 22]\n"
     ]
    }
   ],
   "source": [
    "p = g1.mixed_strategy_profile()\n",
    "xs,ys,zs=[],[],[]\n",
    "for x in range(2,23):\n",
    "    g1[0,0,1][0],g1[0,0,1][1],g1[0,0,1][2]=0, -10000, (500 + 10000)/x\n",
    "    g1[0,1,1][0],g1[0,1,1][1],g1[0,1,1][2]=0, 500, 500\n",
    "    g1[1,0,1][0],g1[1,0,1][1],g1[1,0,1][2]=5, -10000, (500 + 10000)/(x + 1)\n",
    "    g1[1,1,1][0],g1[1,1,1][1],g1[1,1,1][2]=-100, 500, (500 + 100) /x\n",
    "    k=gambit.nash.gnm_solve(g1)\n",
    "    xs+=[k[0][2]]\n",
    "    ys+=[k[0][3]]\n",
    "    zs+=[x]\n",
    "print(xs)\n",
    "print(ys)\n",
    "print(zs)\n",
    "    #print('Mixed Strategy Payoff:',p[g1.players[0]],p[g1.players[1]],p[g1.players[2]])"
   ]
  },
  {
   "cell_type": "code",
   "execution_count": 74,
   "metadata": {},
   "outputs": [
    {
     "ename": "ImportError",
     "evalue": "No module named mpl_toolkits.mplot3d",
     "output_type": "error",
     "traceback": [
      "\u001b[0;31m---------------------------------------------------------------------------\u001b[0m",
      "\u001b[0;31mImportError\u001b[0m                               Traceback (most recent call last)",
      "\u001b[0;32m<ipython-input-74-268bd7cee094>\u001b[0m in \u001b[0;36m<module>\u001b[0;34m()\u001b[0m\n\u001b[1;32m      1\u001b[0m \u001b[0;32mimport\u001b[0m \u001b[0mmatplotlib\u001b[0m\u001b[0;34m.\u001b[0m\u001b[0mpyplot\u001b[0m \u001b[0;32mas\u001b[0m \u001b[0mplt\u001b[0m\u001b[0;34m\u001b[0m\u001b[0;34m\u001b[0m\u001b[0m\n\u001b[0;32m----> 2\u001b[0;31m \u001b[0;32mfrom\u001b[0m \u001b[0mmpl_toolkits\u001b[0m\u001b[0;34m.\u001b[0m\u001b[0mmplot3d\u001b[0m \u001b[0;32mimport\u001b[0m \u001b[0mAxes3D\u001b[0m\u001b[0;34m\u001b[0m\u001b[0;34m\u001b[0m\u001b[0m\n\u001b[0m\u001b[1;32m      3\u001b[0m \u001b[0mfig\u001b[0m \u001b[0;34m=\u001b[0m \u001b[0mplt\u001b[0m\u001b[0;34m.\u001b[0m\u001b[0mfigure\u001b[0m\u001b[0;34m(\u001b[0m\u001b[0;34m)\u001b[0m\u001b[0;34m\u001b[0m\u001b[0;34m\u001b[0m\u001b[0m\n\u001b[1;32m      4\u001b[0m \u001b[0max\u001b[0m \u001b[0;34m=\u001b[0m \u001b[0mfig\u001b[0m\u001b[0;34m.\u001b[0m\u001b[0madd_subplot\u001b[0m\u001b[0;34m(\u001b[0m\u001b[0;36m111\u001b[0m\u001b[0;34m,\u001b[0m \u001b[0mprojection\u001b[0m\u001b[0;34m=\u001b[0m\u001b[0;34m'3d'\u001b[0m\u001b[0;34m)\u001b[0m\u001b[0;34m\u001b[0m\u001b[0;34m\u001b[0m\u001b[0m\n",
      "\u001b[0;31mImportError\u001b[0m: No module named mpl_toolkits.mplot3d"
     ]
    }
   ],
   "source": [
    "import matplotlib.pyplot as plt\n",
    "from mpl_toolkits.mplot3d import Axes3D\n",
    "fig = plt.figure()\n",
    "ax = fig.add_subplot(111, projection='3d')"
   ]
  },
  {
   "cell_type": "markdown",
   "metadata": {},
   "source": [
    "# When ratio of payoff between Node and warehouse is 1000"
   ]
  },
  {
   "cell_type": "code",
   "execution_count": 24,
   "metadata": {},
   "outputs": [
    {
     "data": {
      "text/plain": [
       "[[[Fraction(1, 1), Fraction(0, 1)], [Fraction(1, 1), Fraction(0, 1)], [Fraction(1, 1), Fraction(0, 1)]]]"
      ]
     },
     "execution_count": 24,
     "metadata": {},
     "output_type": "execute_result"
    }
   ],
   "source": [
    "g[0,0,0][0],g[0,0,0][1],g[0,0,0][2]=5,5000,5000\n",
    "g[0,0,1][0],g[0,0,1][1],g[0,0,1][2]=5,5000,-100000\n",
    "g[0,1,0][0],g[0,1,0][1],g[0,1,0][2]=(5+10000)/2,-100000,(5+10000)/2 # Node's payoff ratio could be different from\n",
    "                                                                 # Positive selector and Negative Selector\n",
    "g[0,1,1][0],g[0,1,1][1],g[0,1,1][2]=5,-100000,-100000\n",
    "g[1,0,0][0],g[1,0,0][1],g[1,0,0][2]=-100,5000,5000+100\n",
    "g[1,0,1][0],g[1,0,1][1],g[1,0,1][2]=-100,5000,-100000\n",
    "g[1,1,0][0],g[1,1,0][1],g[1,1,0][2]=-100, -100000, 5000 + (100 + 100000)\n",
    "g[1,1,1][0],g[1,1,1][1],g[1,1,1][2]=-100, -100000, -100000\n",
    "gambit.nash.simpdiv_solve(g)"
   ]
  },
  {
   "cell_type": "code",
   "execution_count": 23,
   "metadata": {
    "scrolled": false
   },
   "outputs": [
    {
     "name": "stdout",
     "output_type": "stream",
     "text": [
      "('Nash Profile:', [[[1.0, 0.0], [4.2103486061484396e-05, 0.9999578965139384], [0.5000000000009766, 0.4999999999990232]]])\n",
      "('Mixed Strategy Payoff:', [0.5, 0.5], [0.5, 0.5], [0.5, 0.5])\n",
      "('Nash Profile:', [[[1.0, 0.0], [6.66622156829666e-05, 0.9999333377843171], [0.5000000000009766, 0.49999999999902345]]])\n",
      "('Mixed Strategy Payoff:', [0.5, 0.5], [0.5, 0.5], [0.5, 0.5])\n",
      "('Nash Profile:', [[[1.0, 0.0], [9.410878011295587e-05, 0.999905891219887], [0.5000000000009766, 0.49999999999902345]]])\n",
      "('Mixed Strategy Payoff:', [0.5, 0.5], [0.5, 0.5], [0.5, 0.5])\n",
      "('Nash Profile:', [[[1.0, 0.0], [0.0001249843641341064, 0.999875015635866], [0.5000000000009768, 0.4999999999990232]]])\n",
      "('Mixed Strategy Payoff:', [0.5, 0.5], [0.5, 0.5], [0.5, 0.5])\n",
      "('Nash Profile:', [[[1.0, 0.0], [0.0001599743876886106, 0.9998400256123114], [0.5000000000009768, 0.49999999999902345]]])\n",
      "('Mixed Strategy Payoff:', [0.5, 0.5], [0.5, 0.5], [0.5, 0.5])\n",
      "('Nash Profile:', [[[1.0, 0.0], [0.0001999599874970004, 0.9998000400125031], [0.5000000000009766, 0.4999999999990232]]])\n",
      "('Mixed Strategy Payoff:', [0.5, 0.5], [0.5, 0.5], [0.5, 0.5])\n",
      "('Nash Profile:', [[[1.0, 0.0], [0.0002460932441142871, 0.9997539067558856], [0.5000000000009766, 0.49999999999902345]]])\n",
      "('Mixed Strategy Payoff:', [0.5, 0.5], [0.5, 0.5], [0.5, 0.5])\n",
      "('Nash Profile:', [[[1.0, 0.0], [0.0002999399812376735, 0.9997000600187624], [0.5000000000009768, 0.4999999999990232]]])\n",
      "('Mixed Strategy Payoff:', [0.5, 0.5], [0.5, 0.5], [0.5, 0.5])\n",
      "('Nash Profile:', [[[1.0, 0.0], [0.0003635041430153363, 0.9996364958569846], [0.5000000000009768, 0.4999999999990232]]])\n",
      "('Mixed Strategy Payoff:', [0.5, 0.5], [0.5, 0.5], [0.5, 0.5])\n",
      "('Nash Profile:', [[[1.0, 0.0], [0.0004398504057427366, 0.9995601495942572], [0.5000000000009768, 0.4999999999990232]]])\n",
      "('Mixed Strategy Payoff:', [0.5, 0.5], [0.5, 0.5], [0.5, 0.5])\n",
      "('Nash Profile:', [[[1.0, 0.0], [0.000533048985851603, 0.9994669510141485], [0.5000000000009766, 0.4999999999990232]]])\n",
      "('Mixed Strategy Payoff:', [0.5, 0.5], [0.5, 0.5], [0.5, 0.5])\n",
      "('Nash Profile:', [[[1.0, 0.0], [0.0006497725129678833, 0.9993502274870321], [0.5000000000009768, 0.4999999999990232]]])\n",
      "('Mixed Strategy Payoff:', [0.5, 0.5], [0.5, 0.5], [0.5, 0.5])\n",
      "('Nash Profile:', [[[1.0, 0.0], [0.000799360429612761, 0.9992006395703872], [0.5000000000009768, 0.4999999999990232]]])\n",
      "('Mixed Strategy Payoff:', [0.5, 0.5], [0.5, 0.5], [0.5, 0.5])\n",
      "('Nash Profile:', [[[1.0, 0.0], [0.0009990008965712893, 0.9990009991034287], [0.5000000000009766, 0.49999999999902345]]])\n",
      "('Mixed Strategy Payoff:', [0.5, 0.5], [0.5, 0.5], [0.5, 0.5])\n",
      "('Nash Profile:', [[[1.0, 0.0], [0.0012787722474008612, 0.9987212277525992], [0.5000000000009766, 0.4999999999990232]]])\n",
      "('Mixed Strategy Payoff:', [0.5, 0.5], [0.5, 0.5], [0.5, 0.5])\n",
      "('Nash Profile:', [[[1.0, 0.0], [0.0016977926951524669, 0.9983022073048475], [0.5000000000009766, 0.49999999999902345]]])\n",
      "('Mixed Strategy Payoff:', [0.5, 0.5], [0.5, 0.5], [0.5, 0.5])\n",
      "('Nash Profile:', [[[1.0, 0.0], [0.0023952093352527237, 0.9976047906647472], [0.5000000000009768, 0.4999999999990232]]])\n",
      "('Mixed Strategy Payoff:', [0.5, 0.5], [0.5, 0.5], [0.5, 0.5])\n",
      "('Nash Profile:', [[[1.0, 0.0], [0.0037878783994146903, 0.9962121216005854], [0.5000000000009768, 0.4999999999990232]]])\n",
      "('Mixed Strategy Payoff:', [0.5, 0.5], [0.5, 0.5], [0.5, 0.5])\n",
      "('Nash Profile:', [[[1.0, 0.0], [0.007936507122761671, 0.9920634928772383], [0.5000000000009766, 0.49999999999902345]]])\n",
      "('Mixed Strategy Payoff:', [0.5, 0.5], [0.5, 0.5], [0.5, 0.5])\n",
      "('Nash Profile:', [[[1.0, 0.0], [0.9999998974543179, 1.0254568211243154e-07], [0.5000000000009766, 0.4999999999990232]]])\n",
      "('Mixed Strategy Payoff:', [0.5, 0.5], [0.5, 0.5], [0.5, 0.5])\n",
      "('Nash Profile:', [[[1.0, 0.0], [1.0, 0.0], [1.0, 0.0]]])\n",
      "('Mixed Strategy Payoff:', [0.5, 0.5], [0.5, 0.5], [0.5, 0.5])\n",
      "('Nash Profile:', [[[1.0, 0.0], [1.0, 0.0], [1.0, 0.0]]])\n",
      "('Mixed Strategy Payoff:', [0.5, 0.5], [0.5, 0.5], [0.5, 0.5])\n",
      "('Nash Profile:', [[[1.0, 0.0], [1.0, 0.0], [1.0, 0.0]]])\n",
      "('Mixed Strategy Payoff:', [0.5, 0.5], [0.5, 0.5], [0.5, 0.5])\n"
     ]
    }
   ],
   "source": [
    "g1=g\n",
    "p = g1.mixed_strategy_profile()\n",
    "for x in range(2,25):\n",
    "    g1[0,0,1][0],g1[0,0,1][1],g1[0,0,1][2]=0, -100000, (5000 + 100000)/x\n",
    "    g1[0,1,1][0],g1[0,1,1][1],g1[0,1,1][2]=0, 5000, 5000\n",
    "    g1[1,0,1][0],g1[1,0,1][1],g1[1,0,1][2]=5, -100000, (5000 + 100000)/(x + 1)\n",
    "    g1[1,1,1][0],g1[1,1,1][1],g1[1,1,1][2]=-100, 5000, (5000 + 1000) /x\n",
    "    print('Nash Profile:',gambit.nash.gnm_solve(g1))\n",
    "    print('Mixed Strategy Payoff:',p[g1.players[0]],p[g1.players[1]],p[g1.players[2]])"
   ]
  },
  {
   "cell_type": "markdown",
   "metadata": {},
   "source": [
    "# Increasing payoff for node upto 50"
   ]
  },
  {
   "cell_type": "code",
   "execution_count": 31,
   "metadata": {},
   "outputs": [
    {
     "name": "stdout",
     "output_type": "stream",
     "text": [
      "('Nash Profile:', [[[1.0, 0.0], [0.0010515247065171485, 0.9989484752934827], [0.5000000000009768, 0.49999999999902345]]])\n",
      "('Mixed Strategy Payoff:', [0.5, 0.5], [0.5, 0.5], [0.5, 0.5])\n",
      "('Nash Profile:', [[[1.0, 0.0], [0.0016638935039896552, 0.9983361064960103], [0.5000000000009766, 0.49999999999902345]]])\n",
      "('Mixed Strategy Payoff:', [0.5, 0.5], [0.5, 0.5], [0.5, 0.5])\n",
      "('Nash Profile:', [[[1.0, 0.0], [0.0023474178307478777, 0.9976525821692521], [0.500000000000977, 0.4999999999990232]]])\n",
      "('Mixed Strategy Payoff:', [0.5, 0.5], [0.5, 0.5], [0.5, 0.5])\n",
      "('Nash Profile:', [[[1.0, 0.0], [0.0031152647847316195, 0.9968847352152684], [0.5000000000009768, 0.4999999999990232]]])\n",
      "('Mixed Strategy Payoff:', [0.5, 0.5], [0.5, 0.5], [0.5, 0.5])\n",
      "('Nash Profile:', [[[1.0, 0.0], [0.003984063728676379, 0.9960159362713236], [0.5000000000009768, 0.4999999999990232]]])\n",
      "('Mixed Strategy Payoff:', [0.5, 0.5], [0.5, 0.5], [0.5, 0.5])\n",
      "('Nash Profile:', [[[1.0, 0.0], [0.00497512435770453, 0.9950248756422955], [0.5000000000009768, 0.4999999999990232]]])\n",
      "('Mixed Strategy Payoff:', [0.5, 0.5], [0.5, 0.5], [0.5, 0.5])\n",
      "('Nash Profile:', [[[1.0, 0.0], [0.006116207925982553, 0.9938837920740173], [0.5000000000009768, 0.49999999999902345]]])\n",
      "('Mixed Strategy Payoff:', [0.5, 0.5], [0.5, 0.5], [0.5, 0.5])\n",
      "('Nash Profile:', [[[1.0, 0.0], [0.007444907652609634, 0.9925550923473904], [0.5000000000009766, 0.4999999999990232]]])\n",
      "('Mixed Strategy Payoff:', [0.5, 0.5], [0.5, 0.5], [0.5, 0.5])\n",
      "('Nash Profile:', [[[1.0, 0.0], [0.009009008972060084, 0.99099099102794], [0.5000000000009768, 0.4999999999990232]]])\n",
      "('Mixed Strategy Payoff:', [0.5, 0.5], [0.5, 0.5], [0.5, 0.5])\n",
      "('Nash Profile:', [[[1.0, 0.0], [0.010881392773656295, 0.9891186072263436], [0.5000000000009768, 0.49999999999902345]]])\n",
      "('Mixed Strategy Payoff:', [0.5, 0.5], [0.5, 0.5], [0.5, 0.5])\n",
      "('Nash Profile:', [[[1.0, 0.0], [0.01315789468288242, 0.9868421053171176], [0.5000000000009766, 0.49999999999902345]]])\n",
      "('Mixed Strategy Payoff:', [0.5, 0.5], [0.5, 0.5], [0.5, 0.5])\n",
      "('Nash Profile:', [[[1.0, 0.0], [0.015994881572281627, 0.9840051184277184], [0.5000000000009766, 0.4999999999990232]]])\n",
      "('Mixed Strategy Payoff:', [0.5, 0.5], [0.5, 0.5], [0.5, 0.5])\n",
      "('Nash Profile:', [[[1.0, 0.0], [0.01960784305682589, 0.980392156943174], [0.5000000000009768, 0.4999999999990232]]])\n",
      "('Mixed Strategy Payoff:', [0.5, 0.5], [0.5, 0.5], [0.5, 0.5])\n",
      "('Nash Profile:', [[[1.0, 0.0], [0.02439024380239302, 0.975609756197607], [0.5000000000009768, 0.49999999999902345]]])\n",
      "('Mixed Strategy Payoff:', [0.5, 0.5], [0.5, 0.5], [0.5, 0.5])\n",
      "('Nash Profile:', [[[1.0, 0.0], [0.03101736959981738, 0.9689826304001825], [0.5000000000009768, 0.49999999999902345]]])\n",
      "('Mixed Strategy Payoff:', [0.5, 0.5], [0.5, 0.5], [0.5, 0.5])\n",
      "('Nash Profile:', [[[1.0, 0.0], [0.040783034090498826, 0.9592169659095012], [0.5000000000009766, 0.49999999999902345]]])\n",
      "('Mixed Strategy Payoff:', [0.5, 0.5], [0.5, 0.5], [0.5, 0.5])\n",
      "('Nash Profile:', [[[1.0, 0.0], [0.05662514133063723, 0.9433748586693629], [0.5000000000009766, 0.4999999999990232]]])\n",
      "('Mixed Strategy Payoff:', [0.5, 0.5], [0.5, 0.5], [0.5, 0.5])\n",
      "('Nash Profile:', [[[1.0, 0.0], [0.08680555519957134, 0.9131944448004286], [0.5000000000009768, 0.4999999999990232]]])\n",
      "('Mixed Strategy Payoff:', [0.5, 0.5], [0.5, 0.5], [0.5, 0.5])\n",
      "('Nash Profile:', [[[1.0, 0.0], [0.16666666598317936, 0.8333333340168207], [0.5000000000009768, 0.4999999999990232]]])\n",
      "('Mixed Strategy Payoff:', [0.5, 0.5], [0.5, 0.5], [0.5, 0.5])\n",
      "('Nash Profile:', [[[1.0, 0.0], [0.9999999958981727, 4.101827211222542e-09], [0.5000000000009766, 0.4999999999990232]]])\n",
      "('Mixed Strategy Payoff:', [0.5, 0.5], [0.5, 0.5], [0.5, 0.5])\n",
      "('Nash Profile:', [[[1.0, 0.0], [1.0, 0.0], [1.0, 0.0]]])\n",
      "('Mixed Strategy Payoff:', [0.5, 0.5], [0.5, 0.5], [0.5, 0.5])\n"
     ]
    }
   ],
   "source": [
    "g[0,0,0][0],g[0,0,0][1],g[0,0,0][2]=100,5000,5000\n",
    "g[0,0,1][0],g[0,0,1][1],g[0,0,1][2]=100,5000,-100000\n",
    "g[0,1,0][0],g[0,1,0][1],g[0,1,0][2]=(100+10000)/2,-100000,(100+10000)/2 # Node's payoff ratio could be different from\n",
    "                                                                 # Positive selector and Negative Selector\n",
    "g[0,1,1][0],g[0,1,1][1],g[0,1,1][2]=50,-100000,-100000\n",
    "g[1,0,0][0],g[1,0,0][1],g[1,0,0][2]=-100,5000,5000+100\n",
    "g[1,0,1][0],g[1,0,1][1],g[1,0,1][2]=-100,5000,-100000\n",
    "g[1,1,0][0],g[1,1,0][1],g[1,1,0][2]=-100, -100000, 5000 + (100 + 100000)\n",
    "g[1,1,1][0],g[1,1,1][1],g[1,1,1][2]=-100, -100000, -100000\n",
    "g1=g\n",
    "p = g1.mixed_strategy_profile()\n",
    "for x in range(2,23):\n",
    "    g1[0,0,1][0],g1[0,0,1][1],g1[0,0,1][2]=0, -100000, (5000 + 100000)/x\n",
    "    g1[0,1,1][0],g1[0,1,1][1],g1[0,1,1][2]=0, 5000, 5000\n",
    "    g1[1,0,1][0],g1[1,0,1][1],g1[1,0,1][2]=5, -100000, (5000 + 100000)/(x + 1)\n",
    "    g1[1,1,1][0],g1[1,1,1][1],g1[1,1,1][2]=-100, 5000, (5000 + 1000) /x\n",
    "    print('Nash Profile:',gambit.nash.gnm_solve(g1))\n",
    "    print('Mixed Strategy Payoff:',p[g1.players[0]],p[g1.players[1]],p[g1.players[2]])"
   ]
  },
  {
   "cell_type": "code",
   "execution_count": null,
   "metadata": {},
   "outputs": [],
   "source": [
    "for x in range(1,100,5):\n",
    "    g1[0,0,1][0],g1[0,0,1][1],g1[0,0,1][2]=0, -10000, (500 + 10000)/x\n",
    "    g1[0,1,1][0],g1[0,1,1][1],g1[0,1,1][2]=0, 500, 500\n",
    "    g1[1,0,1][0],g1[1,0,1][1],g1[1,0,1][2]=5, -10000, (500 + 10000)/(x + 1)\n",
    "    g1[1,1,1][0],g1[1,1,1][1],g1[1,1,1][2]=-100, 500, (500 + 100) /x\n",
    "    print(gambit.nash.simpdiv_solve(g1))"
   ]
  },
  {
   "cell_type": "code",
   "execution_count": null,
   "metadata": {},
   "outputs": [],
   "source": [
    "for x in range(1,100,5):\n",
    "    g1[0,0,1][0],g1[0,0,1][1],g1[0,0,1][2]=0, -10000, (500 + 10000)/x\n",
    "    g1[0,1,1][0],g1[0,1,1][1],g1[0,1,1][2]=0, 500, 500\n",
    "    g1[1,0,1][0],g1[1,0,1][1],g1[1,0,1][2]=5, -10000, (500 + 10000)/(x + 1)\n",
    "    g1[1,1,1][0],g1[1,1,1][1],g1[1,1,1][2]=-100, 500, (500 + 100) /x\n",
    "    print(solver2.solve(g1))"
   ]
  },
  {
   "cell_type": "code",
   "execution_count": null,
   "metadata": {},
   "outputs": [],
   "source": []
  }
 ],
 "metadata": {
  "kernelspec": {
   "display_name": "Python 2",
   "language": "python",
   "name": "python2"
  },
  "language_info": {
   "codemirror_mode": {
    "name": "ipython",
    "version": 2
   },
   "file_extension": ".py",
   "mimetype": "text/x-python",
   "name": "python",
   "nbconvert_exporter": "python",
   "pygments_lexer": "ipython2",
   "version": "2.7.15+"
  }
 },
 "nbformat": 4,
 "nbformat_minor": 2
}
